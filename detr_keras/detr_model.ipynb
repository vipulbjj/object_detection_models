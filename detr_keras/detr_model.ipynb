{
 "cells": [
  {
   "cell_type": "code",
   "execution_count": null,
   "metadata": {},
   "outputs": [],
   "source": [
    "import tensorflow as tf\n",
    "from tensorflow.keras import Model\n",
    "from tensorflow.keras.applications import ResNet50\n",
    "from tensorflow.keras.layers import Dense, Conv2D\n",
    "\n",
    "class TfDETR(Model):\n",
    "    def __init__(self, num_classes, hidden_dim=256, nheads=8,\n",
    "                 num_encoder_layers=6, num_decoder_layers=6):\n",
    "        super().__init__()\n",
    "        resnet = ResNet50()\n",
    "        self.backbone = Model(resnet.input, resnet.layers[-3].output)\n",
    "        self.conv = Conv2D(hidden_dim, 1)\n",
    "        self.transformer = None # import transformer\n",
    "        self.linear_class = Dense(units=num_classes + 1)\n",
    "        self.linear_bbox = Dense(units=4)\n",
    "        self.query_pos = tf.Variable(tf.random.uniform((100, hidden_dim)))\n",
    "        self.row_embed = tf.Variable(tf.random.uniform((50, hidden_dim // 2)))\n",
    "        self.col_embed = tf.Variable(tf.random.uniform((50, hidden_dim // 2)))\n",
    "    \n",
    "\n",
    "    def call(self, x):\n",
    "      # propagate inputs through ResNet-50 up to avg-pool layer\n",
    "        x = self.backbone(x)\n",
    "\n",
    "        # convert from 2048 to 256 feature planes for the transformer\n",
    "        h = self.conv(x)\n",
    "\n",
    "        # construct positional encodings\n",
    "        H, W, _ = h.shape[-3:] # channels in last dimension in tf\n",
    "       \n",
    "        pos = tf.concat([\n",
    "              tf.tile(tf.expand_dims(self.col_embed[:W], 0), (H, 1, 1)),\n",
    "              tf.tile(tf.expand_dims(self.row_embed[:H], 1), (1, W, 1))            \n",
    "            ], axis=-1)\n",
    "        pos = tf.expand_dims(tf.reshape(pos, (-1, pos.shape[-1])), 1)\n",
    "        \n",
    "        # propagate through the transformer\n",
    "        sp = h.shape\n",
    "\n",
    "        h = tf.transpose(\n",
    "              self.transformer(pos + 0.1 * tf.reshape(h, (sp[0], -1, sp[3])),\n",
    "                             tf.expand_dims(self.query_pos, 1)), \n",
    "                         (0, 1))\n",
    "        \n",
    "        # # finally project transformer outputs to class labels and bounding boxes\n",
    "        return {'pred_logits': self.linear_class(h), \n",
    "                'pred_boxes': tf.sigmoid(self.linear_bbox(h))}"
   ]
  }
 ],
 "metadata": {
  "kernelspec": {
   "display_name": "Python 3",
   "language": "python",
   "name": "python3"
  },
  "language_info": {
   "codemirror_mode": {
    "name": "ipython",
    "version": 3
   },
   "file_extension": ".py",
   "mimetype": "text/x-python",
   "name": "python",
   "nbconvert_exporter": "python",
   "pygments_lexer": "ipython3",
   "version": "3.7.6"
  }
 },
 "nbformat": 4,
 "nbformat_minor": 4
}
